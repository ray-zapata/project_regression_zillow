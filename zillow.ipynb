{
 "cells": [
  {
   "cell_type": "markdown",
   "id": "f7604016-a759-4977-b32d-1e1d29dc1e16",
   "metadata": {},
   "source": [
    "# Estimating Home Prices with Zillow\n",
    "\n",
    "This notebook contains a detailed, step-by-step view of the data science pipeline in using Zillow data for estimate and predict values of homes. "
   ]
  },
  {
   "cell_type": "markdown",
   "id": "50e5bac4-8bf5-45fc-bf0d-6b55452e8574",
   "metadata": {},
   "source": [
    "## Initialize Notebook"
   ]
  },
  {
   "cell_type": "code",
   "execution_count": 1,
   "id": "58536278-2b47-4bfa-b383-a46d2044bbda",
   "metadata": {},
   "outputs": [],
   "source": [
    "# import from standard libraries\n",
    "import pandas as pd\n",
    "import numpy as np\n",
    "\n",
    "# import visualization tools\n",
    "import matplotlib.pyplot as plt\n",
    "import seaborn as sns0\n",
    "\n",
    "# import data manipulation tools\n",
    "from sklearn.model_selection import train_test_split\n",
    "\n",
    "# import module functions\n",
    "from acquire import get_sql, acquire_mvp\n",
    "from prepare import shed_zscore_outliers, show_distributions, prepare_mvp, split_data\n",
    "from explore import get_tax_rate\n",
    "\n",
    "# cosmetic settings\n",
    "import warnings\n",
    "warnings.filterwarnings(\"ignore\")\n",
    "from matplotlib.pyplot import style\n",
    "style.use('~/.matplotlib/gruvbox.mplstyle')"
   ]
  },
  {
   "cell_type": "markdown",
   "id": "5f704667-b684-4ce3-8776-d8f0ed7abe25",
   "metadata": {},
   "source": [
    "## Acquire Data"
   ]
  },
  {
   "cell_type": "code",
   "execution_count": 2,
   "id": "12b6872a-6778-4f82-8e33-a46b6a1dd7a9",
   "metadata": {},
   "outputs": [],
   "source": [
    "# SQL query for initial DataFrame grab\n",
    "# joins predictions_2017 for dates to filter \"hot months\"\n",
    "# uses propertylandusetypeid as described in propertylandusetype\n",
    "# table to filter only single unit properties\n",
    "query = '''\n",
    "SELECT *\n",
    "FROM properties_2017\n",
    "INNER JOIN predictions_2017 USING(parcelid)\n",
    "LEFT JOIN propertylandusetype USING(propertylandusetypeid)\n",
    "WHERE\n",
    "    propertylandusetypeid IN (261, 263, 264, 266, 268, 275, 276, 279) AND\n",
    "    CAST(transactiondate AS DATE) BETWEEN 20170501 AND 20170831\n",
    "ORDER BY\n",
    "    properties_2017.id ASC\n",
    ";'''"
   ]
  },
  {
   "cell_type": "code",
   "execution_count": 3,
   "id": "1c876741-994a-4ba2-9887-6567ea0afd43",
   "metadata": {},
   "outputs": [],
   "source": [
    "# obtain initial DataFrame using get_sql function\n",
    "df = get_sql(query, 'zillow')"
   ]
  },
  {
   "cell_type": "code",
   "execution_count": 4,
   "id": "e58ec661-abfa-4d55-ab22-b95e6f583fd7",
   "metadata": {},
   "outputs": [
    {
     "data": {
      "text/plain": [
       "(38412, 7)"
      ]
     },
     "execution_count": 4,
     "metadata": {},
     "output_type": "execute_result"
    }
   ],
   "source": [
    "# check DataFrame dimensions\n",
    "df.shape"
   ]
  },
  {
   "cell_type": "code",
   "execution_count": 5,
   "id": "33d04774-7d29-4a11-817a-884c7647be9e",
   "metadata": {},
   "outputs": [
    {
     "data": {
      "text/html": [
       "<div>\n",
       "<style scoped>\n",
       "    .dataframe tbody tr th:only-of-type {\n",
       "        vertical-align: middle;\n",
       "    }\n",
       "\n",
       "    .dataframe tbody tr th {\n",
       "        vertical-align: top;\n",
       "    }\n",
       "\n",
       "    .dataframe thead th {\n",
       "        text-align: right;\n",
       "    }\n",
       "</style>\n",
       "<table border=\"1\" class=\"dataframe\">\n",
       "  <thead>\n",
       "    <tr style=\"text-align: right;\">\n",
       "      <th></th>\n",
       "      <th>0</th>\n",
       "    </tr>\n",
       "  </thead>\n",
       "  <tbody>\n",
       "    <tr>\n",
       "      <th>property_id</th>\n",
       "      <td>349.00</td>\n",
       "    </tr>\n",
       "    <tr>\n",
       "      <th>bedrooms</th>\n",
       "      <td>4.00</td>\n",
       "    </tr>\n",
       "    <tr>\n",
       "      <th>bathrooms</th>\n",
       "      <td>5.00</td>\n",
       "    </tr>\n",
       "    <tr>\n",
       "      <th>fips</th>\n",
       "      <td>6111.00</td>\n",
       "    </tr>\n",
       "    <tr>\n",
       "      <th>square_feet</th>\n",
       "      <td>3760.00</td>\n",
       "    </tr>\n",
       "    <tr>\n",
       "      <th>tax_amount_usd</th>\n",
       "      <td>9673.46</td>\n",
       "    </tr>\n",
       "    <tr>\n",
       "      <th>tax_value_usd</th>\n",
       "      <td>872850.00</td>\n",
       "    </tr>\n",
       "  </tbody>\n",
       "</table>\n",
       "</div>"
      ],
      "text/plain": [
       "                        0\n",
       "property_id        349.00\n",
       "bedrooms             4.00\n",
       "bathrooms            5.00\n",
       "fips              6111.00\n",
       "square_feet       3760.00\n",
       "tax_amount_usd    9673.46\n",
       "tax_value_usd   872850.00"
      ]
     },
     "execution_count": 5,
     "metadata": {},
     "output_type": "execute_result"
    }
   ],
   "source": [
    "# check first row of DataFrame\n",
    "df.head(1).T"
   ]
  },
  {
   "cell_type": "markdown",
   "id": "bd56c98a-1f20-4ded-ac09-007598ce41a4",
   "metadata": {},
   "source": [
    "<br>🚨 **Notice** 🚨 <br>\n",
    "_Multiple `id` columns exist, we will adjust our query to distinguish these and retain the `id` from the primary table._\n",
    "<br><br>"
   ]
  },
  {
   "cell_type": "code",
   "execution_count": 6,
   "id": "33a17644-2332-46eb-a634-9ef765441461",
   "metadata": {},
   "outputs": [],
   "source": [
    "# due to multiple id columns, set primary table key as \"property_id\"\n",
    "query = '''\n",
    "SELECT *, properties_2017.id AS property_id\n",
    "FROM properties_2017\n",
    "INNER JOIN predictions_2017 USING(parcelid)\n",
    "LEFT JOIN propertylandusetype USING(propertylandusetypeid)\n",
    "WHERE\n",
    "    propertylandusetypeid IN (261, 263, 264, 266, 268, 275, 276, 279) AND\n",
    "    CAST(transactiondate AS DATE) BETWEEN 20170501 AND 20170831\n",
    "ORDER BY\n",
    "    properties_2017.id ASC\n",
    ";'''"
   ]
  },
  {
   "cell_type": "code",
   "execution_count": 7,
   "id": "f5877604-aaf5-4387-ac2c-644f8ccf6eb7",
   "metadata": {},
   "outputs": [],
   "source": [
    "# obtain DataFrame with adjusted query\n",
    "df = get_sql(query, 'zillow', use_csv=False)"
   ]
  },
  {
   "cell_type": "code",
   "execution_count": 8,
   "id": "c5fc44b4-be0f-40b9-acf2-84c9bc321d40",
   "metadata": {},
   "outputs": [],
   "source": [
    "# drop id columns while retainging property_id\n",
    "df = df.drop(columns=['id'])"
   ]
  },
  {
   "cell_type": "code",
   "execution_count": 9,
   "id": "047866fe-d0e7-434e-913d-3ffd69195b33",
   "metadata": {},
   "outputs": [],
   "source": [
    "# set property_id as index to avoid losing this data in scaling\n",
    "# due to human error\n",
    "df = df.set_index('property_id')"
   ]
  },
  {
   "cell_type": "code",
   "execution_count": 10,
   "id": "1c6d9700-a13f-41ed-aaaf-6e5ca8e3b340",
   "metadata": {},
   "outputs": [],
   "source": [
    "# sort columns for ease of understanding\n",
    "cols = list(df)\n",
    "cols.sort()\n",
    "df = df[cols]"
   ]
  },
  {
   "cell_type": "code",
   "execution_count": 11,
   "id": "d7c70d01-49be-4b60-898b-1d393a1d838f",
   "metadata": {},
   "outputs": [
    {
     "data": {
      "text/plain": [
       "(38412, 61)"
      ]
     },
     "execution_count": 11,
     "metadata": {},
     "output_type": "execute_result"
    }
   ],
   "source": [
    "# check DataFrame dimensions again\n",
    "df.shape"
   ]
  },
  {
   "cell_type": "code",
   "execution_count": 12,
   "id": "9a73d151-9384-465c-91c1-4a7cabb9309d",
   "metadata": {},
   "outputs": [
    {
     "data": {
      "text/html": [
       "<div>\n",
       "<style scoped>\n",
       "    .dataframe tbody tr th:only-of-type {\n",
       "        vertical-align: middle;\n",
       "    }\n",
       "\n",
       "    .dataframe tbody tr th {\n",
       "        vertical-align: top;\n",
       "    }\n",
       "\n",
       "    .dataframe thead th {\n",
       "        text-align: right;\n",
       "    }\n",
       "</style>\n",
       "<table border=\"1\" class=\"dataframe\">\n",
       "  <thead>\n",
       "    <tr style=\"text-align: right;\">\n",
       "      <th>property_id</th>\n",
       "      <th>349</th>\n",
       "    </tr>\n",
       "  </thead>\n",
       "  <tbody>\n",
       "    <tr>\n",
       "      <th>airconditioningtypeid</th>\n",
       "      <td>NaN</td>\n",
       "    </tr>\n",
       "    <tr>\n",
       "      <th>architecturalstyletypeid</th>\n",
       "      <td>NaN</td>\n",
       "    </tr>\n",
       "    <tr>\n",
       "      <th>assessmentyear</th>\n",
       "      <td>2016.0</td>\n",
       "    </tr>\n",
       "    <tr>\n",
       "      <th>basementsqft</th>\n",
       "      <td>NaN</td>\n",
       "    </tr>\n",
       "    <tr>\n",
       "      <th>bathroomcnt</th>\n",
       "      <td>5.0</td>\n",
       "    </tr>\n",
       "    <tr>\n",
       "      <th>...</th>\n",
       "      <td>...</td>\n",
       "    </tr>\n",
       "    <tr>\n",
       "      <th>typeconstructiontypeid</th>\n",
       "      <td>NaN</td>\n",
       "    </tr>\n",
       "    <tr>\n",
       "      <th>unitcnt</th>\n",
       "      <td>NaN</td>\n",
       "    </tr>\n",
       "    <tr>\n",
       "      <th>yardbuildingsqft17</th>\n",
       "      <td>NaN</td>\n",
       "    </tr>\n",
       "    <tr>\n",
       "      <th>yardbuildingsqft26</th>\n",
       "      <td>NaN</td>\n",
       "    </tr>\n",
       "    <tr>\n",
       "      <th>yearbuilt</th>\n",
       "      <td>1982.0</td>\n",
       "    </tr>\n",
       "  </tbody>\n",
       "</table>\n",
       "<p>61 rows × 1 columns</p>\n",
       "</div>"
      ],
      "text/plain": [
       "property_id                  349\n",
       "airconditioningtypeid        NaN\n",
       "architecturalstyletypeid     NaN\n",
       "assessmentyear            2016.0\n",
       "basementsqft                 NaN\n",
       "bathroomcnt                  5.0\n",
       "...                          ...\n",
       "typeconstructiontypeid       NaN\n",
       "unitcnt                      NaN\n",
       "yardbuildingsqft17           NaN\n",
       "yardbuildingsqft26           NaN\n",
       "yearbuilt                 1982.0\n",
       "\n",
       "[61 rows x 1 columns]"
      ]
     },
     "execution_count": 12,
     "metadata": {},
     "output_type": "execute_result"
    }
   ],
   "source": [
    "# check first row of newly ordered DataFrame\n",
    "df.head(1).T"
   ]
  },
  {
   "cell_type": "code",
   "execution_count": 13,
   "id": "a006a856-e460-455f-9412-f8d2dbfeea72",
   "metadata": {},
   "outputs": [
    {
     "name": "stdout",
     "output_type": "stream",
     "text": [
      "<class 'pandas.core.frame.DataFrame'>\n",
      "Int64Index: 38412 entries, 349 to 2982274\n",
      "Data columns (total 61 columns):\n",
      " #   Column                        Non-Null Count  Dtype  \n",
      "---  ------                        --------------  -----  \n",
      " 0   airconditioningtypeid         12222 non-null  float64\n",
      " 1   architecturalstyletypeid      101 non-null    float64\n",
      " 2   assessmentyear                38412 non-null  float64\n",
      " 3   basementsqft                  25 non-null     float64\n",
      " 4   bathroomcnt                   38412 non-null  float64\n",
      " 5   bedroomcnt                    38412 non-null  float64\n",
      " 6   buildingclasstypeid           0 non-null      object \n",
      " 7   buildingqualitytypeid         23698 non-null  float64\n",
      " 8   calculatedbathnbr             38269 non-null  float64\n",
      " 9   calculatedfinishedsquarefeet  38314 non-null  float64\n",
      " 10  censustractandblock           38271 non-null  float64\n",
      " 11  decktypeid                    321 non-null    float64\n",
      " 12  finishedfloor1squarefeet      3153 non-null   float64\n",
      " 13  finishedsquarefeet12          38200 non-null  float64\n",
      " 14  finishedsquarefeet13          31 non-null     float64\n",
      " 15  finishedsquarefeet15          4 non-null      float64\n",
      " 16  finishedsquarefeet50          3153 non-null   float64\n",
      " 17  finishedsquarefeet6           79 non-null     float64\n",
      " 18  fips                          38412 non-null  float64\n",
      " 19  fireplacecnt                  4555 non-null   float64\n",
      " 20  fireplaceflag                 84 non-null     float64\n",
      " 21  fullbathcnt                   38269 non-null  float64\n",
      " 22  garagecarcnt                  13733 non-null  float64\n",
      " 23  garagetotalsqft               13733 non-null  float64\n",
      " 24  hashottuborspa                889 non-null    float64\n",
      " 25  heatingorsystemtypeid         24605 non-null  float64\n",
      " 26  landtaxvaluedollarcnt         38411 non-null  float64\n",
      " 27  latitude                      38412 non-null  float64\n",
      " 28  logerror                      38412 non-null  float64\n",
      " 29  longitude                     38412 non-null  float64\n",
      " 30  lotsizesquarefeet             34066 non-null  float64\n",
      " 31  numberofstories               9328 non-null   float64\n",
      " 32  parcelid                      38412 non-null  int64  \n",
      " 33  poolcnt                       8593 non-null   float64\n",
      " 34  poolsizesum                   496 non-null    float64\n",
      " 35  pooltypeid10                  250 non-null    float64\n",
      " 36  pooltypeid2                   639 non-null    float64\n",
      " 37  pooltypeid7                   7945 non-null   float64\n",
      " 38  propertycountylandusecode     38412 non-null  object \n",
      " 39  propertylandusedesc           38412 non-null  object \n",
      " 40  propertylandusetypeid         38412 non-null  float64\n",
      " 41  propertyzoningdesc            23935 non-null  object \n",
      " 42  rawcensustractandblock        38412 non-null  float64\n",
      " 43  regionidcity                  37689 non-null  float64\n",
      " 44  regionidcounty                38412 non-null  float64\n",
      " 45  regionidneighborhood          15137 non-null  float64\n",
      " 46  regionidzip                   38385 non-null  float64\n",
      " 47  roomcnt                       38412 non-null  float64\n",
      " 48  storytypeid                   25 non-null     float64\n",
      " 49  structuretaxvaluedollarcnt    38360 non-null  float64\n",
      " 50  taxamount                     38411 non-null  float64\n",
      " 51  taxdelinquencyflag            1268 non-null   object \n",
      " 52  taxdelinquencyyear            1268 non-null   float64\n",
      " 53  taxvaluedollarcnt             38411 non-null  float64\n",
      " 54  threequarterbathnbr           5521 non-null   float64\n",
      " 55  transactiondate               38412 non-null  object \n",
      " 56  typeconstructiontypeid        111 non-null    float64\n",
      " 57  unitcnt                       23897 non-null  float64\n",
      " 58  yardbuildingsqft17            1297 non-null   float64\n",
      " 59  yardbuildingsqft26            48 non-null     float64\n",
      " 60  yearbuilt                     38291 non-null  float64\n",
      "dtypes: float64(54), int64(1), object(6)\n",
      "memory usage: 18.2+ MB\n"
     ]
    }
   ],
   "source": [
    "# inspect DataFrame structure, values, counts, and data types\n",
    "df.info()"
   ]
  },
  {
   "cell_type": "markdown",
   "id": "ba0385ac-88ef-4794-ae70-8204fd16b178",
   "metadata": {},
   "source": [
    "<br>🚨 **Notice** 🚨 <br>\n",
    "_Many columns have substantial amounts of data missing. We will drop columns with more than 5% null data._<br><br>"
   ]
  },
  {
   "cell_type": "code",
   "execution_count": 14,
   "id": "9a74592a-b309-461d-b93f-04c784db3325",
   "metadata": {},
   "outputs": [],
   "source": [
    "# drop columns with more than 5% data missing\n",
    "df = df.dropna(axis=1, thresh=36491)"
   ]
  },
  {
   "cell_type": "code",
   "execution_count": 15,
   "id": "f5fbd1a0-c45e-45d4-acec-1a841fd26332",
   "metadata": {},
   "outputs": [
    {
     "name": "stdout",
     "output_type": "stream",
     "text": [
      "<class 'pandas.core.frame.DataFrame'>\n",
      "Int64Index: 38412 entries, 349 to 2982274\n",
      "Data columns (total 27 columns):\n",
      " #   Column                        Non-Null Count  Dtype  \n",
      "---  ------                        --------------  -----  \n",
      " 0   assessmentyear                38412 non-null  float64\n",
      " 1   bathroomcnt                   38412 non-null  float64\n",
      " 2   bedroomcnt                    38412 non-null  float64\n",
      " 3   calculatedbathnbr             38269 non-null  float64\n",
      " 4   calculatedfinishedsquarefeet  38314 non-null  float64\n",
      " 5   censustractandblock           38271 non-null  float64\n",
      " 6   finishedsquarefeet12          38200 non-null  float64\n",
      " 7   fips                          38412 non-null  float64\n",
      " 8   fullbathcnt                   38269 non-null  float64\n",
      " 9   landtaxvaluedollarcnt         38411 non-null  float64\n",
      " 10  latitude                      38412 non-null  float64\n",
      " 11  logerror                      38412 non-null  float64\n",
      " 12  longitude                     38412 non-null  float64\n",
      " 13  parcelid                      38412 non-null  int64  \n",
      " 14  propertycountylandusecode     38412 non-null  object \n",
      " 15  propertylandusedesc           38412 non-null  object \n",
      " 16  propertylandusetypeid         38412 non-null  float64\n",
      " 17  rawcensustractandblock        38412 non-null  float64\n",
      " 18  regionidcity                  37689 non-null  float64\n",
      " 19  regionidcounty                38412 non-null  float64\n",
      " 20  regionidzip                   38385 non-null  float64\n",
      " 21  roomcnt                       38412 non-null  float64\n",
      " 22  structuretaxvaluedollarcnt    38360 non-null  float64\n",
      " 23  taxamount                     38411 non-null  float64\n",
      " 24  taxvaluedollarcnt             38411 non-null  float64\n",
      " 25  transactiondate               38412 non-null  object \n",
      " 26  yearbuilt                     38291 non-null  float64\n",
      "dtypes: float64(23), int64(1), object(3)\n",
      "memory usage: 8.2+ MB\n"
     ]
    }
   ],
   "source": [
    "# recheck DataFrame .info()\n",
    "df.info()"
   ]
  },
  {
   "cell_type": "markdown",
   "id": "669cd343-c839-4a7b-88d9-46890c0a617e",
   "metadata": {},
   "source": [
    "### Initial Thoughts\n",
    "\n",
    "Most of our initial columns were unusable due to significant missing data. Of the $38,412$ rows returned, some columns had null values for as much as $99\\%$ of them. Our requisite variables for the minimally viable product, as well as our target, have sufficient usable data for our purposes. \n",
    "\n",
    "**Variables**:\n",
    "- `calculatedfinishedsquarefeet`, 38314 _non-null_ values, dtype $=$ float64\n",
    "- `bedroomcnt`, 38412 _non-null_ values, dtype $=$ float64\n",
    "- `bathroomcnt`, 38412 _non-null_ values, dtype $=$  float64\n",
    "\n",
    "**Target**:\n",
    "- `taxvaluedollarcnt`, 38411 _non-null_ values, dtype $=$ float64\n",
    "\n",
    "There is also sufficient data to obtain tax rates for counties in which the properties exist.\n",
    "\n",
    "- `fips`, 38412 _non-null_ values, dtype $=$ float64\n",
    "    - can be used with data from [census.gov](https://www.census.gov/prod/techdoc/cbp/95-96cd/fips-st.pdf) to establish county\n",
    "- `taxamount`, 38411 _non-null_ values, dtype $=$ float64\n",
    "    -  can be used in with `taxvaluedollarcnt` to obtain an estimated tax rate\n",
    "\n",
    "**Takeaways**\n",
    "\n",
    "Of our returned $38,412$ rows, the requisite variable that is missing the most data is `calculatedfinishedsquarefeet` with $98$ null values. This represents $\\approx0.001\\%$ of our data, and can be safely dropped without significant alarm. With enough time, we can explore additional variables for model creation. For now, we will move on with creating our minimally viable product.\n",
    "\n",
    "**Starting Hypotheses**\n",
    "\n",
    "- H$_0$: _Assessed property value does not increase with square feet of the structure._\n",
    "- H$_a$: _Assessed property value increases with square feet of the structure._\n",
    "\n",
    "It seems likely that as the dimensions of the property increase, that the value of the property would increase linearly with it."
   ]
  },
  {
   "cell_type": "code",
   "execution_count": 16,
   "id": "638fede5-b36a-4623-b6da-fea7c9289fe2",
   "metadata": {},
   "outputs": [],
   "source": [
    "df_mvp = acquire_mvp()"
   ]
  },
  {
   "cell_type": "markdown",
   "id": "5bffd138-9d51-409f-b0eb-92badd7c33e6",
   "metadata": {},
   "source": [
    "## Data Preparation\n",
    "### Minimally Viable Product"
   ]
  },
  {
   "cell_type": "code",
   "execution_count": 17,
   "id": "73c76879-952b-4c95-8f51-babc0ba34636",
   "metadata": {},
   "outputs": [
    {
     "data": {
      "text/plain": [
       "(38312, 6)"
      ]
     },
     "execution_count": 17,
     "metadata": {},
     "output_type": "execute_result"
    }
   ],
   "source": [
    "# check DataFrame dimensions\n",
    "df_mvp.shape"
   ]
  },
  {
   "cell_type": "code",
   "execution_count": 18,
   "id": "8dc9aabe-52a1-49d5-86fc-0b2224f1418b",
   "metadata": {},
   "outputs": [
    {
     "data": {
      "text/html": [
       "<div>\n",
       "<style scoped>\n",
       "    .dataframe tbody tr th:only-of-type {\n",
       "        vertical-align: middle;\n",
       "    }\n",
       "\n",
       "    .dataframe tbody tr th {\n",
       "        vertical-align: top;\n",
       "    }\n",
       "\n",
       "    .dataframe thead th {\n",
       "        text-align: right;\n",
       "    }\n",
       "</style>\n",
       "<table border=\"1\" class=\"dataframe\">\n",
       "  <thead>\n",
       "    <tr style=\"text-align: right;\">\n",
       "      <th>property_id</th>\n",
       "      <th>349</th>\n",
       "    </tr>\n",
       "  </thead>\n",
       "  <tbody>\n",
       "    <tr>\n",
       "      <th>bedrooms</th>\n",
       "      <td>4.00</td>\n",
       "    </tr>\n",
       "    <tr>\n",
       "      <th>bathrooms</th>\n",
       "      <td>5.00</td>\n",
       "    </tr>\n",
       "    <tr>\n",
       "      <th>fips</th>\n",
       "      <td>6111.00</td>\n",
       "    </tr>\n",
       "    <tr>\n",
       "      <th>square_feet</th>\n",
       "      <td>3760.00</td>\n",
       "    </tr>\n",
       "    <tr>\n",
       "      <th>tax_amount_usd</th>\n",
       "      <td>9673.46</td>\n",
       "    </tr>\n",
       "    <tr>\n",
       "      <th>tax_value_usd</th>\n",
       "      <td>872850.00</td>\n",
       "    </tr>\n",
       "  </tbody>\n",
       "</table>\n",
       "</div>"
      ],
      "text/plain": [
       "property_id           349\n",
       "bedrooms             4.00\n",
       "bathrooms            5.00\n",
       "fips              6111.00\n",
       "square_feet       3760.00\n",
       "tax_amount_usd    9673.46\n",
       "tax_value_usd   872850.00"
      ]
     },
     "execution_count": 18,
     "metadata": {},
     "output_type": "execute_result"
    }
   ],
   "source": [
    "# inspect first row of DataFrame\n",
    "df_mvp.head(1).T"
   ]
  },
  {
   "cell_type": "code",
   "execution_count": 19,
   "id": "338404f1-1875-42f1-bc7b-40139b8706f0",
   "metadata": {},
   "outputs": [
    {
     "name": "stdout",
     "output_type": "stream",
     "text": [
      "<class 'pandas.core.frame.DataFrame'>\n",
      "Int64Index: 38312 entries, 349 to 2982274\n",
      "Data columns (total 6 columns):\n",
      " #   Column          Non-Null Count  Dtype  \n",
      "---  ------          --------------  -----  \n",
      " 0   bedrooms        38312 non-null  float64\n",
      " 1   bathrooms       38312 non-null  float64\n",
      " 2   fips            38312 non-null  float64\n",
      " 3   square_feet     38312 non-null  float64\n",
      " 4   tax_amount_usd  38312 non-null  float64\n",
      " 5   tax_value_usd   38312 non-null  float64\n",
      "dtypes: float64(6)\n",
      "memory usage: 2.0 MB\n"
     ]
    }
   ],
   "source": [
    "# view DataFrame structure, values, counts, and data types\n",
    "df_mvp.info()"
   ]
  },
  {
   "cell_type": "code",
   "execution_count": 20,
   "id": "cd64aee7-33dd-43c9-94bf-bd5986bcdc1c",
   "metadata": {},
   "outputs": [
    {
     "data": {
      "image/png": "[encoded data removed]",
      "text/plain": [
       "<Figure size 2880x1440 with 6 Axes>"
      ]
     },
     "metadata": {},
     "output_type": "display_data"
    }
   ],
   "source": [
    "# visualize the MVP variables\n",
    "show_distributions(df_mvp)"
   ]
  },
  {
   "cell_type": "markdown",
   "id": "f662be1a-7b53-41e7-b899-3857559b9801",
   "metadata": {},
   "source": [
    "#### Data Impressions\n",
    "\n",
    "Looking at the distributions, we can see some heavy right skews in `square_feet`, `tax_amount_usd`, `and tax_value_usd`. This can cause some problems down the line when scaling data for modeling, and it is best to remove some of the egregious outliers. We will create a function that can safely remove outliers, but allow us to exclude values that should not be pruned, like `fips`."
   ]
  },
  {
   "cell_type": "markdown",
   "id": "7f1cc4d7-abbf-420a-8a5a-248118976ad8",
   "metadata": {},
   "source": [
    "#### Handling Outliers\n",
    "##### Using Z-Score\n",
    "\n",
    "Here we have created a function that will remove all values that are $\\pm$ 3 standard deviations from the mean. We will again visualize our variables to check the results."
   ]
  },
  {
   "cell_type": "code",
   "execution_count": 21,
   "id": "0bbda9d9-632c-4b3f-9c61-4f60ee1c007d",
   "metadata": {},
   "outputs": [
    {
     "data": {
      "text/plain": [
       "(38312, 6)"
      ]
     },
     "execution_count": 21,
     "metadata": {},
     "output_type": "execute_result"
    }
   ],
   "source": [
    "# check dimensions before removing outliers\n",
    "df_mvp.shape"
   ]
  },
  {
   "cell_type": "code",
   "execution_count": 22,
   "id": "b69e1566-6f36-490b-9baf-b8c251b58627",
   "metadata": {},
   "outputs": [],
   "source": [
    "# check dimensions for comparison after removal\n",
    "df_mvp = shed_zscore_outliers(df_mvp, 'fips')"
   ]
  },
  {
   "cell_type": "code",
   "execution_count": 23,
   "id": "7a9661e2-72c1-483a-a9af-e68c77b2ee78",
   "metadata": {},
   "outputs": [
    {
     "data": {
      "text/plain": [
       "(37249, 6)"
      ]
     },
     "execution_count": 23,
     "metadata": {},
     "output_type": "execute_result"
    }
   ],
   "source": [
    "df_mvp.shape"
   ]
  },
  {
   "cell_type": "code",
   "execution_count": 24,
   "id": "5e846d27-e567-4c87-84fe-f1bc1a089912",
   "metadata": {},
   "outputs": [
    {
     "data": {
      "image/png": "[encoded data removed]",
      "text/plain": [
       "<Figure size 2880x1440 with 6 Axes>"
      ]
     },
     "metadata": {},
     "output_type": "display_data"
    }
   ],
   "source": [
    "# visualize the new distributions\n",
    "show_distributions(df_mvp)"
   ]
  },
  {
   "cell_type": "markdown",
   "id": "e017a94a-fdca-4276-bb71-6f66489f108d",
   "metadata": {},
   "source": [
    "<br>We can see there is still some right skew in the three variables mentioned before, but it has reduced quite significantly. This should improve the results of our scaled data being passed into our models later on. We see there are some properties that do not have a bathroom or a bedroom. This is unlikely to be the case for the single unit properties we are looking at, and is likely the result of missing data or improper labels. We will also drop these few rows to avoid using inappropriate data.<br><br>"
   ]
  },
  {
   "cell_type": "code",
   "execution_count": 25,
   "id": "40546e35-a13e-418f-933b-e07e05cdb47e",
   "metadata": {},
   "outputs": [],
   "source": [
    "# remove 0 values from bedrooms and bathrooms\n",
    "df_mvp = df_mvp.loc[((df_mvp.bedrooms != 0) & (df_mvp.bathrooms != 0))]"
   ]
  },
  {
   "cell_type": "code",
   "execution_count": 26,
   "id": "6b2a524d-4758-48e4-a6bb-93046499d900",
   "metadata": {},
   "outputs": [
    {
     "data": {
      "text/plain": [
       "(37091, 6)"
      ]
     },
     "execution_count": 26,
     "metadata": {},
     "output_type": "execute_result"
    }
   ],
   "source": [
    "# check shape to see remaining data\n",
    "df_mvp.shape"
   ]
  },
  {
   "cell_type": "code",
   "execution_count": 27,
   "id": "c2a93859-ab4f-4812-b358-08c086cabe51",
   "metadata": {},
   "outputs": [
    {
     "data": {
      "text/plain": [
       "array([5. , 2. , 1.5, 1. , 2.5, 3. , 4.5, 4. , 3.5])"
      ]
     },
     "execution_count": 27,
     "metadata": {},
     "output_type": "execute_result"
    }
   ],
   "source": [
    "# inspect values have been removed\n",
    "df_mvp.bathrooms.unique()"
   ]
  },
  {
   "cell_type": "code",
   "execution_count": 28,
   "id": "c10ac3b9-01d2-4f0c-9c7f-6776ddc412df",
   "metadata": {},
   "outputs": [
    {
     "data": {
      "text/plain": [
       "array([4., 3., 2., 5., 1., 6.])"
      ]
     },
     "execution_count": 28,
     "metadata": {},
     "output_type": "execute_result"
    }
   ],
   "source": [
    "# inspect values have been removed\n",
    "df_mvp.bedrooms.unique()"
   ]
  },
  {
   "cell_type": "markdown",
   "id": "83651a86-e8ed-4682-a989-d2433c7a42dc",
   "metadata": {},
   "source": [
    "<br>Now that we have removed our inappropriate data, the last thing to do is replace our `fips`, or Federal Information Processing Standards codes, with human readable county names. These names are taken directly from the [cenusus.gov](https://www.census.gov/prod/techdoc/cbp/95-96cd/fips-st.pdf) website. All of the values within the `fips` column correspond to counties in the US state of California. We will use this data to calculate extimated tax rates for the counties in which these properties exist.<br><br>"
   ]
  },
  {
   "cell_type": "code",
   "execution_count": 29,
   "id": "4a2e2558-c54c-4b73-b536-6f064a6015bd",
   "metadata": {},
   "outputs": [
    {
     "data": {
      "text/plain": [
       "array([6111., 6037., 6059.])"
      ]
     },
     "execution_count": 29,
     "metadata": {},
     "output_type": "execute_result"
    }
   ],
   "source": [
    "# output fips values\n",
    "df_mvp.fips.unique()"
   ]
  },
  {
   "cell_type": "code",
   "execution_count": 30,
   "id": "6225ebfe-8cb4-4a72-aab6-7392a553362b",
   "metadata": {},
   "outputs": [],
   "source": [
    "# replace fips numerical codes with string county names and rename column\n",
    "df_mvp.fips = np.where(df_mvp.fips == 6037.0, 'Los Angeles', df_mvp.fips)\n",
    "df_mvp.fips = np.where(df_mvp.fips == '6059.0', 'Orange', df_mvp.fips)\n",
    "df_mvp.fips = np.where(df_mvp.fips == '6111.0', 'Ventura', df_mvp.fips)\n",
    "df_mvp = df_mvp.rename(columns=({'fips':'county'}))"
   ]
  },
  {
   "cell_type": "code",
   "execution_count": 31,
   "id": "36bacb9f-ebe1-4bd5-8782-056e7dbf308f",
   "metadata": {},
   "outputs": [
    {
     "data": {
      "text/html": [
       "<div>\n",
       "<style scoped>\n",
       "    .dataframe tbody tr th:only-of-type {\n",
       "        vertical-align: middle;\n",
       "    }\n",
       "\n",
       "    .dataframe tbody tr th {\n",
       "        vertical-align: top;\n",
       "    }\n",
       "\n",
       "    .dataframe thead th {\n",
       "        text-align: right;\n",
       "    }\n",
       "</style>\n",
       "<table border=\"1\" class=\"dataframe\">\n",
       "  <thead>\n",
       "    <tr style=\"text-align: right;\">\n",
       "      <th>property_id</th>\n",
       "      <th>349</th>\n",
       "    </tr>\n",
       "  </thead>\n",
       "  <tbody>\n",
       "    <tr>\n",
       "      <th>bedrooms</th>\n",
       "      <td>4.0</td>\n",
       "    </tr>\n",
       "    <tr>\n",
       "      <th>bathrooms</th>\n",
       "      <td>5.0</td>\n",
       "    </tr>\n",
       "    <tr>\n",
       "      <th>county</th>\n",
       "      <td>Ventura</td>\n",
       "    </tr>\n",
       "    <tr>\n",
       "      <th>square_feet</th>\n",
       "      <td>3760.0</td>\n",
       "    </tr>\n",
       "    <tr>\n",
       "      <th>tax_amount_usd</th>\n",
       "      <td>9673.46</td>\n",
       "    </tr>\n",
       "    <tr>\n",
       "      <th>tax_value_usd</th>\n",
       "      <td>872850.0</td>\n",
       "    </tr>\n",
       "  </tbody>\n",
       "</table>\n",
       "</div>"
      ],
      "text/plain": [
       "property_id          349\n",
       "bedrooms             4.0\n",
       "bathrooms            5.0\n",
       "county           Ventura\n",
       "square_feet       3760.0\n",
       "tax_amount_usd   9673.46\n",
       "tax_value_usd   872850.0"
      ]
     },
     "execution_count": 31,
     "metadata": {},
     "output_type": "execute_result"
    }
   ],
   "source": [
    "# inspect first row\n",
    "df_mvp.head(1).T"
   ]
  },
  {
   "cell_type": "code",
   "execution_count": 32,
   "id": "e7a219ab-2f6b-40a9-a5ac-bfd1256f7da2",
   "metadata": {},
   "outputs": [
    {
     "data": {
      "text/plain": [
       "array(['Ventura', 'Los Angeles', 'Orange'], dtype=object)"
      ]
     },
     "execution_count": 32,
     "metadata": {},
     "output_type": "execute_result"
    }
   ],
   "source": [
    "# inspect values counts\n",
    "df_mvp.county.unique()"
   ]
  },
  {
   "cell_type": "markdown",
   "id": "9bedfced-1f0e-482f-a8e8-978632c73a07",
   "metadata": {},
   "source": [
    "### Finalize Preparation\n",
    "\n",
    "Now that we have filled these values with human readable values, we can also encode this data to better use in machine learning. These will not be used in our MVP, but can be utilized in further modeling."
   ]
  },
  {
   "cell_type": "code",
   "execution_count": 33,
   "id": "35dcf41e-1516-47d5-a124-b375482068d5",
   "metadata": {},
   "outputs": [],
   "source": [
    "# reassign DataFrame to hold new encoded colummns\n",
    "df_mvp = pd.get_dummies(df_mvp, columns=['county'], drop_first=True)"
   ]
  },
  {
   "cell_type": "code",
   "execution_count": 34,
   "id": "82330c3a-c76f-4560-a92b-31defea8e107",
   "metadata": {},
   "outputs": [
    {
     "data": {
      "text/plain": [
       "(37091, 7)"
      ]
     },
     "execution_count": 34,
     "metadata": {},
     "output_type": "execute_result"
    }
   ],
   "source": [
    "# check shape for new row\n",
    "df_mvp.shape"
   ]
  },
  {
   "cell_type": "code",
   "execution_count": 35,
   "id": "91c4622f-9702-45ad-ac34-abc7f4274c48",
   "metadata": {},
   "outputs": [
    {
     "data": {
      "text/html": [
       "<div>\n",
       "<style scoped>\n",
       "    .dataframe tbody tr th:only-of-type {\n",
       "        vertical-align: middle;\n",
       "    }\n",
       "\n",
       "    .dataframe tbody tr th {\n",
       "        vertical-align: top;\n",
       "    }\n",
       "\n",
       "    .dataframe thead th {\n",
       "        text-align: right;\n",
       "    }\n",
       "</style>\n",
       "<table border=\"1\" class=\"dataframe\">\n",
       "  <thead>\n",
       "    <tr style=\"text-align: right;\">\n",
       "      <th>property_id</th>\n",
       "      <th>349</th>\n",
       "    </tr>\n",
       "  </thead>\n",
       "  <tbody>\n",
       "    <tr>\n",
       "      <th>bedrooms</th>\n",
       "      <td>4.00</td>\n",
       "    </tr>\n",
       "    <tr>\n",
       "      <th>bathrooms</th>\n",
       "      <td>5.00</td>\n",
       "    </tr>\n",
       "    <tr>\n",
       "      <th>square_feet</th>\n",
       "      <td>3760.00</td>\n",
       "    </tr>\n",
       "    <tr>\n",
       "      <th>tax_amount_usd</th>\n",
       "      <td>9673.46</td>\n",
       "    </tr>\n",
       "    <tr>\n",
       "      <th>tax_value_usd</th>\n",
       "      <td>872850.00</td>\n",
       "    </tr>\n",
       "    <tr>\n",
       "      <th>county_Orange</th>\n",
       "      <td>0.00</td>\n",
       "    </tr>\n",
       "    <tr>\n",
       "      <th>county_Ventura</th>\n",
       "      <td>1.00</td>\n",
       "    </tr>\n",
       "  </tbody>\n",
       "</table>\n",
       "</div>"
      ],
      "text/plain": [
       "property_id           349\n",
       "bedrooms             4.00\n",
       "bathrooms            5.00\n",
       "square_feet       3760.00\n",
       "tax_amount_usd    9673.46\n",
       "tax_value_usd   872850.00\n",
       "county_Orange        0.00\n",
       "county_Ventura       1.00"
      ]
     },
     "execution_count": 35,
     "metadata": {},
     "output_type": "execute_result"
    }
   ],
   "source": [
    "# inspect first row\n",
    "df_mvp.head(1).T"
   ]
  },
  {
   "cell_type": "markdown",
   "id": "ebb16fd0-ce1c-4286-a5d7-c504cfbac218",
   "metadata": {},
   "source": [
    "Now that we have completed this portion of data preparation and obtaining the requested county tax rates, we can move on to exploring our data for our minimally viable product. First we will create a function to obtain all our data as needed for our MVP to split into `train`, `validate`, and `test` datasets."
   ]
  },
  {
   "cell_type": "markdown",
   "id": "8a2a8bf0-7608-4bfc-b73b-ac0a4b9667e7",
   "metadata": {},
   "source": [
    "## Data Exploration"
   ]
  },
  {
   "cell_type": "markdown",
   "id": "241a4095-c7a4-43ef-a7fb-594bada0dbea",
   "metadata": {},
   "source": [
    "### Minimally Viable Product"
   ]
  },
  {
   "cell_type": "code",
   "execution_count": 39,
   "id": "f240e833-32e4-44d6-953e-24bf046e429e",
   "metadata": {},
   "outputs": [],
   "source": [
    "# test split_data function on prepare_mvp and return explore\n",
    "# DataFrame and X, y for train, validate, and test\n",
    "df_mvp, \\\n",
    "X_train_mvp, y_train_mvp, \\\n",
    "X_validate_mvp, y_validate_mvp, \\\n",
    "X_test_mvp, y_test_mvp = split_data(prepare_mvp(), 'tax_value_usd')"
   ]
  },
  {
   "cell_type": "code",
   "execution_count": 40,
   "id": "9ff99529-6ca8-4d5c-a6ae-0a7a5fa0babd",
   "metadata": {},
   "outputs": [
    {
     "data": {
      "text/plain": [
       "((22254, 6), (22254, 5), (7418, 5), (7419, 5))"
      ]
     },
     "execution_count": 40,
     "metadata": {},
     "output_type": "execute_result"
    }
   ],
   "source": [
    "# check dimensions of explore and X DataFrames\n",
    "df_mvp.shape, X_train.shape, X_validate.shape, X_test.shape"
   ]
  },
  {
   "cell_type": "code",
   "execution_count": null,
   "id": "dd075f53-539e-4edd-9fd7-cf3277659808",
   "metadata": {},
   "outputs": [],
   "source": []
  },
  {
   "cell_type": "code",
   "execution_count": null,
   "id": "70e1cafe-df96-4bc5-b608-270961e5f626",
   "metadata": {},
   "outputs": [],
   "source": []
  },
  {
   "cell_type": "code",
   "execution_count": null,
   "id": "74dc4c0f-2c3b-4986-a7e4-64f17fe5521f",
   "metadata": {},
   "outputs": [],
   "source": []
  },
  {
   "cell_type": "markdown",
   "id": "98ab7e89-a007-4408-8ae0-0ee76f530072",
   "metadata": {},
   "source": [
    "## Estimating Tax Rates\n",
    "\n",
    "Now that we have our data prepared for exploration, we can also estimate our tax rates as requested for our deliverables. This data will not be used in modeling as it will be constructed using our target variable. We will use the function `get_tax_rate` from `prepare.py`."
   ]
  },
  {
   "cell_type": "code",
   "execution_count": 38,
   "id": "0dd61bc9-6acd-47f3-bec7-b9e2f7993207",
   "metadata": {},
   "outputs": [
    {
     "data": {
      "text/html": [
       "<div>\n",
       "<style scoped>\n",
       "    .dataframe tbody tr th:only-of-type {\n",
       "        vertical-align: middle;\n",
       "    }\n",
       "\n",
       "    .dataframe tbody tr th {\n",
       "        vertical-align: top;\n",
       "    }\n",
       "\n",
       "    .dataframe thead th {\n",
       "        text-align: right;\n",
       "    }\n",
       "</style>\n",
       "<table border=\"1\" class=\"dataframe\">\n",
       "  <thead>\n",
       "    <tr style=\"text-align: right;\">\n",
       "      <th></th>\n",
       "      <th>avg_tax_amount_usd</th>\n",
       "      <th>avg_tax_value_usd</th>\n",
       "      <th>tax_rate</th>\n",
       "    </tr>\n",
       "    <tr>\n",
       "      <th>county_name</th>\n",
       "      <th></th>\n",
       "      <th></th>\n",
       "      <th></th>\n",
       "    </tr>\n",
       "  </thead>\n",
       "  <tbody>\n",
       "    <tr>\n",
       "      <th>Los Angeles</th>\n",
       "      <td>5159.400696</td>\n",
       "      <td>406432.952365</td>\n",
       "      <td>0.013783</td>\n",
       "    </tr>\n",
       "    <tr>\n",
       "      <th>Orange</th>\n",
       "      <td>5631.816593</td>\n",
       "      <td>483927.326698</td>\n",
       "      <td>0.012051</td>\n",
       "    </tr>\n",
       "    <tr>\n",
       "      <th>Ventura</th>\n",
       "      <td>5117.075751</td>\n",
       "      <td>437588.390903</td>\n",
       "      <td>0.011954</td>\n",
       "    </tr>\n",
       "  </tbody>\n",
       "</table>\n",
       "</div>"
      ],
      "text/plain": [
       "             avg_tax_amount_usd  avg_tax_value_usd  tax_rate\n",
       "county_name                                                 \n",
       "Los Angeles         5159.400696      406432.952365  0.013783\n",
       "Orange              5631.816593      483927.326698  0.012051\n",
       "Ventura             5117.075751      437588.390903  0.011954"
      ]
     },
     "execution_count": 38,
     "metadata": {},
     "output_type": "execute_result"
    }
   ],
   "source": [
    "get_tax_rate()"
   ]
  },
  {
   "cell_type": "markdown",
   "id": "102fef12-da24-4e33-a909-a15218a02c67",
   "metadata": {},
   "source": [
    "**Estimated Tax Rates**<br>\n",
    "\n",
    "Using our available data, we can calculate an average tax rate for counties using `tax_amount_usd` and `tax_value_usd`.\n",
    "\n",
    "- LA County: $\\approx1.38\\%$ of assessed property value\n",
    "- Orange County: $\\approx1.21\\%$ of assessed property value\n",
    "- Ventura County: $\\approx1.2\\%$ of assessed property value"
   ]
  }
 ],
 "metadata": {
  "kernelspec": {
   "display_name": "Python 3",
   "language": "python",
   "name": "python3"
  },
  "language_info": {
   "codemirror_mode": {
    "name": "ipython",
    "version": 3
   },
   "file_extension": ".py",
   "mimetype": "text/x-python",
   "name": "python",
   "nbconvert_exporter": "python",
   "pygments_lexer": "ipython3",
   "version": "3.8.10"
  },
  "widgets": {
   "application/vnd.jupyter.widget-state+json": {
    "state": {},
    "version_major": 2,
    "version_minor": 0
   }
  }
 },
 "nbformat": 4,
 "nbformat_minor": 5
}
